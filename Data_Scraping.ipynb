{
  "nbformat": 4,
  "nbformat_minor": 0,
  "metadata": {
    "colab": {
      "provenance": []
    },
    "kernelspec": {
      "name": "python3",
      "display_name": "Python 3"
    },
    "language_info": {
      "name": "python"
    }
  },
  "cells": [
    {
      "cell_type": "code",
      "execution_count": null,
      "metadata": {
        "id": "PC3S3CZGOOnm"
      },
      "outputs": [],
      "source": [
        "import requests\n",
        "from bs4 import BeautifulSoup\n",
        "\n",
        "# Send a GET request to the URL\n",
        "url = 'https://imsdb.com/scripts/Joker.html'\n",
        "response = requests.get(url)\n",
        "\n",
        "# Access the HTML content of the webpage\n",
        "html_content = response.content\n",
        "\n",
        "# Parse the HTML content using BeautifulSoup\n",
        "soup = BeautifulSoup(html_content, 'html.parser')\n",
        "\n",
        "# Extract the relevant data from the HTML content\n",
        "data = soup.find_all('pre')\n",
        "\n",
        "# Save the data in a TXT file\n",
        "with open('data.txt', 'w') as file:\n",
        "    for item in data:\n",
        "        file.write(item.text)\n"
      ]
    },
    {
      "cell_type": "code",
      "source": [
        "import csv\n",
        "\n",
        "input_file = 'data.txt'\n",
        "output_file = 'output.csv'\n",
        "\n",
        "joker_dialogues = []\n",
        "social_worker_dialogues = []\n",
        "kid_1=[]\n",
        "with open(input_file, 'r') as f:\n",
        "    lines = f.readlines()\n",
        "\n",
        "    i = 0\n",
        "    while i < len(lines):\n",
        "        line = lines[i].strip()\n",
        "        if line == 'JOKER':\n",
        "            i += 1\n",
        "            dialogue = ''\n",
        "            while i < len(lines) and lines[i].strip():\n",
        "                dialogue += lines[i].strip() + ' '\n",
        "                i += 1\n",
        "            joker_dialogues.append(dialogue.strip())\n",
        "        elif line == 'SOCIAL WORKER':\n",
        "            i += 1\n",
        "            dialogue = ''\n",
        "            while i < len(lines) and lines[i].strip():\n",
        "                dialogue += lines[i].strip() + ' '\n",
        "                i += 1\n",
        "            social_worker_dialogues.append(dialogue.strip())\n",
        "        else:\n",
        "            i += 1\n",
        "\n",
        "with open(output_file, 'w', newline='') as f:\n",
        "    writer = csv.writer(f)\n",
        "    writer.writerow(['Joker Dialogues', 'Social Worker Dialogues'])\n",
        "    for joker, social_worker in zip(joker_dialogues, social_worker_dialogues):\n",
        "        writer.writerow([joker, social_worker])\n"
      ],
      "metadata": {
        "id": "Tucye7A7Ob_d"
      },
      "execution_count": null,
      "outputs": []
    },
    {
      "cell_type": "code",
      "source": [
        "social_worker"
      ],
      "metadata": {
        "colab": {
          "base_uri": "https://localhost:8080/",
          "height": 53
        },
        "id": "rfgI8chqOiTd",
        "outputId": "8b363f2d-055e-44d1-973a-53d5b20f41a1"
      },
      "execution_count": null,
      "outputs": [
        {
          "output_type": "execute_result",
          "data": {
            "text/plain": [
              "\"They don't give a shit about people like you, Arthur. You don't have a voice and they don't really care what happens to you or to us for that matter.\""
            ],
            "application/vnd.google.colaboratory.intrinsic+json": {
              "type": "string"
            }
          },
          "metadata": {},
          "execution_count": 8
        }
      ]
    },
    {
      "cell_type": "code",
      "source": [
        "# for i in soup.find_all('pre'):\n",
        "#   print(i.findAll('b'))\n",
        "data = soup.find_all('pre')\n",
        "b_tags = soup.find_all('b')\n",
        "b_tags\n",
        "tags=[ tag.text.strip() for tag in b_tags]\n",
        "lists=[[] for i in range(0,len(tags))]"
      ],
      "metadata": {
        "id": "QIt2De9uQdhA"
      },
      "execution_count": null,
      "outputs": []
    },
    {
      "cell_type": "code",
      "source": [],
      "metadata": {
        "id": "GTERal2rcurH"
      },
      "execution_count": null,
      "outputs": []
    },
    {
      "cell_type": "code",
      "source": [],
      "metadata": {
        "id": "pu2j7xexj242"
      },
      "execution_count": null,
      "outputs": []
    }
  ]
}